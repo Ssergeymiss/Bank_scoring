{
  "nbformat": 4,
  "nbformat_minor": 0,
  "metadata": {
    "colab": {
      "provenance": [],
      "authorship_tag": "ABX9TyOeN6crzJmJFBHyY6eUflUd",
      "include_colab_link": true
    },
    "kernelspec": {
      "name": "python3",
      "display_name": "Python 3"
    },
    "language_info": {
      "name": "python"
    }
  },
  "cells": [
    {
      "cell_type": "markdown",
      "metadata": {
        "id": "view-in-github",
        "colab_type": "text"
      },
      "source": [
        "<a href=\"https://colab.research.google.com/github/Ssergeymiss/Bank_scorring/blob/main/filtred_variable.ipynb\" target=\"_parent\"><img src=\"https://colab.research.google.com/assets/colab-badge.svg\" alt=\"Open In Colab\"/></a>"
      ]
    },
    {
      "cell_type": "code",
      "execution_count": null,
      "metadata": {
        "id": "whH9nis3E4Wv"
      },
      "outputs": [],
      "source": [
        "import pandas as pd\n",
        "import numpy as np\n",
        "import matplotlib.pyplot as plt\n",
        "import seaborn as sns\n",
        "from sklearn.feature_selection import GenericUnivariateSelect, mutual_info_classif, SelectFromModel\n",
        "from sklearn.pipeline import Pipeline\n",
        "from sklearn.model_selection import StratifiedKFold, GridSearchCV, cross_val_score\n",
        "from sklearn.ensemble import RandomForestClassifier\n",
        "from sklearn.preprocessing import PowerTransformer\n",
        "from sklearn.linear_model import LogisticRegression\n",
        "\n",
        "# зафиксируем значение генератора случайных чисел для воспроизводимости \n",
        "SEED = 1\n",
        "\n",
        "# Функции, которые в дальнейшем понадобятся\n",
        "def plot_features_scores(model, data, target, column_names, model_type):\n",
        "    '''Функция для визуализации важности признаков'''\n",
        "    \n",
        "    model.fit(data, target)\n",
        "    \n",
        "    if model_type == 'rf':\n",
        "        (pd.DataFrame(data={'score': model['rf'].feature_importances_}, \n",
        "                      index=column_names).sort_values(by='score')\n",
        "                                         .plot(kind='barh', grid=True,\n",
        "                                               figsize=(10,15), legend=False));\n",
        "    elif model_type == 'lr':\n",
        "        (pd.DataFrame(data={'score': model['lr'].coef_[0]},\n",
        "                      index=column_names).sort_values(by='score')\n",
        "                                         .plot(kind='barh', grid=True,\n",
        "                                               figsize=(10,15), legend=False));\n",
        "        \n",
        "    else:\n",
        "        raise KeyError('Unknown model_type')\n",
        "\n",
        "def grid_search(model, gs_params):\n",
        "    '''Функция для подбора гиперпараметров с помощью перекрёстной проверки'''\n",
        "     \n",
        "    gs = GridSearchCV(estimator=model, param_grid=gs_params, refit=True,\n",
        "                      scoring='roc_auc', n_jobs=-1, cv=skf, verbose=0)\n",
        "    gs.fit(X, y)\n",
        "    scores = [gs.cv_results_[f'split{i}_test_score'][gs.best_index_] for i in range(5)]\n",
        "    print('scores = {}, \\nmean score = {:.5f} +/- {:.5f} \\\n",
        "           \\nbest params = {}'.format(scores,\n",
        "                                      gs.cv_results_['mean_test_score'][gs.best_index_],\n",
        "                                      gs.cv_results_['std_test_score'][gs.best_index_],\n",
        "                                      gs.best_params_))\n",
        "    return gs\n",
        "        \n",
        "# загрузим данные        \n",
        "#df = pd.read_csv('')\n",
        "\n",
        "#df=df.drop(\"target\",axis=1)\n",
        "\n",
        "# датасет, с которым будем работать\n",
        "# оставим только численые признаки\n",
        "\n",
        "X = df_train.select_dtypes(exclude=['object']).copy()\n",
        "\n",
        "# преобразуем целевую переменную\n",
        "y = df['target'].values\n",
        "\n",
        "X.head()"
      ]
    },
    {
      "cell_type": "code",
      "source": [
        "X = np.nan_to_num(X)"
      ],
      "metadata": {
        "id": "sHQDXiVYFCsi"
      },
      "execution_count": null,
      "outputs": []
    },
    {
      "cell_type": "code",
      "source": [
        "scaler=MinMaxScaler()\n",
        "X=scaler.fit_transform(X)"
      ],
      "metadata": {
        "id": "IcYWl-L7FELr"
      },
      "execution_count": null,
      "outputs": []
    },
    {
      "cell_type": "code",
      "source": [
        "rf = Pipeline([('rf', RandomForestClassifier(n_jobs=-1, \n",
        "                                             class_weight='balanced', \n",
        "                                             random_state=SEED))])\n",
        "\n",
        "# параметры кросс-валидации (стратифицированная 5-фолдовая с перемешиванием) \n",
        "skf = StratifiedKFold(n_splits=5, shuffle=True, random_state=SEED)\n",
        "\n",
        "scores = cross_val_score(estimator=rf, X=X, y=y, \n",
        "                         cv=skf, scoring='roc_auc', n_jobs=-1)\n",
        "print('scores = {} \\nmean score = {:.5f} +/- {:.5f}'.format(scores, scores.mean(), scores.std()))\n",
        "\n",
        "# важность признаков\n",
        "plot_features_scores(model=rf, data=X, target=y, column_names=df_train.columns, model_type='rf')"
      ],
      "metadata": {
        "id": "AMHwznH0FFsE"
      },
      "execution_count": null,
      "outputs": []
    }
  ]
}